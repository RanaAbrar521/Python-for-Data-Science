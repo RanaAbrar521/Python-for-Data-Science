{
 "cells": [
  {
   "cell_type": "markdown",
   "id": "e7515913",
   "metadata": {},
   "source": [
    "# LAB 01"
   ]
  },
  {
   "cell_type": "code",
   "execution_count": null,
   "id": "a537380b",
   "metadata": {},
   "outputs": [],
   "source": [
    "Q# 07 "
   ]
  },
  {
   "cell_type": "code",
   "execution_count": 23,
   "id": "619b0750",
   "metadata": {},
   "outputs": [],
   "source": [
    "Dict = {\"@context\":\"http:\\u002F\\u002Fschema.org\",\"@type\":\"LodgingBusiness\",\"name\":\"SeabreezeHolidayPark\",\"url\":\"\\u002FHotel_Review-g4475485-d2207450-Reviews-Seabreeze_Holiday_Park-Whenuakite_Coromandel_Peninsula_Waikato_Region_North_Island.html\",\"image\":\"https:\\\n",
    "u002F\\u002Fmedia-cdn.tripadvisor.com\\u002Fmedia\\u002Fphoto-s\\u002F09\\u002F66\\u002Fa0\\u002F92\\u002Fseabreeze-holiday-park.jpg\",\"priceRange\":\"$(Based on Average Nightly Rates for a Standard Room from ourPartners)\",\"aggregateRating\":{\"@type\":\"AggregateRating\",\"ratingValue\":\"3.5\",\"reviewCount\":\"152\"},\"address\":{\"@type\":\"PostalAddress\",\"streetAddress\":\"1043 Tairua Whitianga RoadSh25\",\"addressLocality\":\"Whenuakite\",\"addressRegion\":\"NorthIsland\",\"postalCode\":\"3591\",\"addressCountry\":{\"@type\":\"Country\",\"name\":\"NewZealand\"}}}"
   ]
  },
  {
   "cell_type": "code",
   "execution_count": 24,
   "id": "d5b3d76b",
   "metadata": {
    "scrolled": true
   },
   "outputs": [],
   "source": [
    "def Get_Data_from_Dict(Dict):\n",
    "    for item in Dict[ 'address']:\n",
    "        for i in item:\n",
    "            for j in i:\n",
    "                if Dict['address']['addressCountry']['name'] == 'NewZealand':\n",
    "                    return \"NewZealand\"\n",
    "                else:\n",
    "                    return \"Not Exist\""
   ]
  },
  {
   "cell_type": "code",
   "execution_count": 25,
   "id": "a6cfffdc",
   "metadata": {},
   "outputs": [
    {
     "data": {
      "text/plain": [
       "'NewZealand'"
      ]
     },
     "execution_count": 25,
     "metadata": {},
     "output_type": "execute_result"
    }
   ],
   "source": [
    "\n",
    "    Get_Data_from_Dict(Dict)"
   ]
  }
 ],
 "metadata": {
  "kernelspec": {
   "display_name": "Python 3",
   "language": "python",
   "name": "python3"
  },
  "language_info": {
   "codemirror_mode": {
    "name": "ipython",
    "version": 3
   },
   "file_extension": ".py",
   "mimetype": "text/x-python",
   "name": "python",
   "nbconvert_exporter": "python",
   "pygments_lexer": "ipython3",
   "version": "3.8.8"
  }
 },
 "nbformat": 4,
 "nbformat_minor": 5
}
